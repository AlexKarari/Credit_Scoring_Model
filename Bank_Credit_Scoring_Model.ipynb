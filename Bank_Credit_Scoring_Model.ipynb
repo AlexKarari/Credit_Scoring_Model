{
  "nbformat": 4,
  "nbformat_minor": 0,
  "metadata": {
    "colab": {
      "name": "Bank_Credit_Scoring_Model_uploadThis.ipynb",
      "provenance": [],
      "collapsed_sections": []
    },
    "kernelspec": {
      "name": "python3",
      "display_name": "Python 3"
    },
    "language_info": {
      "name": "python"
    }
  },
  "cells": [
    {
      "cell_type": "markdown",
      "metadata": {
        "id": "px_xZDeC6yr-"
      },
      "source": [
        "**Library Importation**"
      ]
    },
    {
      "cell_type": "code",
      "metadata": {
        "id": "XQbSQ8KU0HGJ"
      },
      "source": [
        "# Importing required libraries for conducting the analysis\n",
        "# Importing standard libraries\n",
        "import pandas as pd               # library for data manipulation and analysis\n",
        "import numpy as np                # library for performin scientific computations\n",
        "import matplotlib.pyplot as plt   # library for creating basic visualisations\n",
        "import seaborn as sns             # library for creating rich data visualisations\n",
        "\n",
        "# telling notebook environment to plot any figures in here as opposed to saving in file\n",
        "%matplotlib inline   \n",
        "\n",
        "# sets the visuals to be more appealing to the eye that the generic sns\n",
        "sns.set() \n",
        "\n",
        "import warnings\n",
        "warnings.simplefilter(action='ignore', category=FutureWarning)"
      ],
      "execution_count": null,
      "outputs": []
    },
    {
      "cell_type": "markdown",
      "metadata": {
        "id": "LTufkDz96rBq"
      },
      "source": [
        "**Loading the Dataset**"
      ]
    },
    {
      "cell_type": "code",
      "metadata": {
        "colab": {
          "base_uri": "https://localhost:8080/",
          "height": 200
        },
        "id": "20U1UJeN2UWU",
        "outputId": "1c0e23db-050d-417b-c949-0bdf394c75d9"
      },
      "source": [
        "# Loading the dataset\n",
        "# Dataset_URL = https://bit.ly/35AyjFR\n",
        "\n",
        "# reading our dataset from a URL and storing contents in a dataframe (tabular datastructure)\n",
        "df = pd.read_csv('https://bit.ly/35AyjFR')\n",
        "\n",
        "# previewing the dataframe\n",
        "df.head()"
      ],
      "execution_count": null,
      "outputs": [
        {
          "output_type": "execute_result",
          "data": {
            "text/html": [
              "<div>\n",
              "<style scoped>\n",
              "    .dataframe tbody tr th:only-of-type {\n",
              "        vertical-align: middle;\n",
              "    }\n",
              "\n",
              "    .dataframe tbody tr th {\n",
              "        vertical-align: top;\n",
              "    }\n",
              "\n",
              "    .dataframe thead th {\n",
              "        text-align: right;\n",
              "    }\n",
              "</style>\n",
              "<table border=\"1\" class=\"dataframe\">\n",
              "  <thead>\n",
              "    <tr style=\"text-align: right;\">\n",
              "      <th></th>\n",
              "      <th>Unnamed: 0</th>\n",
              "      <th>Age</th>\n",
              "      <th>Sex</th>\n",
              "      <th>Job</th>\n",
              "      <th>Housing</th>\n",
              "      <th>Saving accounts</th>\n",
              "      <th>Checking account</th>\n",
              "      <th>Credit amount</th>\n",
              "      <th>Duration</th>\n",
              "      <th>Purpose</th>\n",
              "      <th>Risk</th>\n",
              "    </tr>\n",
              "  </thead>\n",
              "  <tbody>\n",
              "    <tr>\n",
              "      <th>0</th>\n",
              "      <td>0</td>\n",
              "      <td>67</td>\n",
              "      <td>male</td>\n",
              "      <td>2</td>\n",
              "      <td>own</td>\n",
              "      <td>NaN</td>\n",
              "      <td>little</td>\n",
              "      <td>1169</td>\n",
              "      <td>6</td>\n",
              "      <td>radio/TV</td>\n",
              "      <td>good</td>\n",
              "    </tr>\n",
              "    <tr>\n",
              "      <th>1</th>\n",
              "      <td>1</td>\n",
              "      <td>22</td>\n",
              "      <td>female</td>\n",
              "      <td>2</td>\n",
              "      <td>own</td>\n",
              "      <td>little</td>\n",
              "      <td>moderate</td>\n",
              "      <td>5951</td>\n",
              "      <td>48</td>\n",
              "      <td>radio/TV</td>\n",
              "      <td>bad</td>\n",
              "    </tr>\n",
              "    <tr>\n",
              "      <th>2</th>\n",
              "      <td>2</td>\n",
              "      <td>49</td>\n",
              "      <td>male</td>\n",
              "      <td>1</td>\n",
              "      <td>own</td>\n",
              "      <td>little</td>\n",
              "      <td>NaN</td>\n",
              "      <td>2096</td>\n",
              "      <td>12</td>\n",
              "      <td>education</td>\n",
              "      <td>good</td>\n",
              "    </tr>\n",
              "    <tr>\n",
              "      <th>3</th>\n",
              "      <td>3</td>\n",
              "      <td>45</td>\n",
              "      <td>male</td>\n",
              "      <td>2</td>\n",
              "      <td>free</td>\n",
              "      <td>little</td>\n",
              "      <td>little</td>\n",
              "      <td>7882</td>\n",
              "      <td>42</td>\n",
              "      <td>furniture/equipment</td>\n",
              "      <td>good</td>\n",
              "    </tr>\n",
              "    <tr>\n",
              "      <th>4</th>\n",
              "      <td>4</td>\n",
              "      <td>53</td>\n",
              "      <td>male</td>\n",
              "      <td>2</td>\n",
              "      <td>free</td>\n",
              "      <td>little</td>\n",
              "      <td>little</td>\n",
              "      <td>4870</td>\n",
              "      <td>24</td>\n",
              "      <td>car</td>\n",
              "      <td>bad</td>\n",
              "    </tr>\n",
              "  </tbody>\n",
              "</table>\n",
              "</div>"
            ],
            "text/plain": [
              "   Unnamed: 0  Age     Sex  ...  Duration              Purpose  Risk\n",
              "0           0   67    male  ...         6             radio/TV  good\n",
              "1           1   22  female  ...        48             radio/TV   bad\n",
              "2           2   49    male  ...        12            education  good\n",
              "3           3   45    male  ...        42  furniture/equipment  good\n",
              "4           4   53    male  ...        24                  car   bad\n",
              "\n",
              "[5 rows x 11 columns]"
            ]
          },
          "metadata": {
            "tags": []
          },
          "execution_count": 2
        }
      ]
    },
    {
      "cell_type": "markdown",
      "metadata": {
        "id": "rKkCljEP68tv"
      },
      "source": [
        "**Dataset Exploration**"
      ]
    },
    {
      "cell_type": "code",
      "metadata": {
        "colab": {
          "base_uri": "https://localhost:8080/"
        },
        "id": "xhdqcab167jL",
        "outputId": "4a5bd8f4-03ae-4c1a-9bae-7825c405c1b6"
      },
      "source": [
        "# determining the shape (size) of the dataset \n",
        "df.shape"
      ],
      "execution_count": null,
      "outputs": [
        {
          "output_type": "execute_result",
          "data": {
            "text/plain": [
              "(1000, 11)"
            ]
          },
          "metadata": {
            "tags": []
          },
          "execution_count": 3
        }
      ]
    },
    {
      "cell_type": "markdown",
      "metadata": {
        "id": "2viDSuOX7M6t"
      },
      "source": [
        "**Observation:** The original dataset has 1000 observations and 10 variables"
      ]
    },
    {
      "cell_type": "code",
      "metadata": {
        "colab": {
          "base_uri": "https://localhost:8080/",
          "height": 291
        },
        "id": "lMwwpmO67dIe",
        "outputId": "e29bc798-aa72-42ea-e7a4-1a063c7ebf7c"
      },
      "source": [
        "# Obtaining a statistical summary of numerical variables\n",
        "df.describe()"
      ],
      "execution_count": null,
      "outputs": [
        {
          "output_type": "execute_result",
          "data": {
            "text/html": [
              "<div>\n",
              "<style scoped>\n",
              "    .dataframe tbody tr th:only-of-type {\n",
              "        vertical-align: middle;\n",
              "    }\n",
              "\n",
              "    .dataframe tbody tr th {\n",
              "        vertical-align: top;\n",
              "    }\n",
              "\n",
              "    .dataframe thead th {\n",
              "        text-align: right;\n",
              "    }\n",
              "</style>\n",
              "<table border=\"1\" class=\"dataframe\">\n",
              "  <thead>\n",
              "    <tr style=\"text-align: right;\">\n",
              "      <th></th>\n",
              "      <th>Unnamed: 0</th>\n",
              "      <th>Age</th>\n",
              "      <th>Job</th>\n",
              "      <th>Credit amount</th>\n",
              "      <th>Duration</th>\n",
              "    </tr>\n",
              "  </thead>\n",
              "  <tbody>\n",
              "    <tr>\n",
              "      <th>count</th>\n",
              "      <td>1000.000000</td>\n",
              "      <td>1000.000000</td>\n",
              "      <td>1000.000000</td>\n",
              "      <td>1000.000000</td>\n",
              "      <td>1000.000000</td>\n",
              "    </tr>\n",
              "    <tr>\n",
              "      <th>mean</th>\n",
              "      <td>499.500000</td>\n",
              "      <td>35.546000</td>\n",
              "      <td>1.904000</td>\n",
              "      <td>3271.258000</td>\n",
              "      <td>20.903000</td>\n",
              "    </tr>\n",
              "    <tr>\n",
              "      <th>std</th>\n",
              "      <td>288.819436</td>\n",
              "      <td>11.375469</td>\n",
              "      <td>0.653614</td>\n",
              "      <td>2822.736876</td>\n",
              "      <td>12.058814</td>\n",
              "    </tr>\n",
              "    <tr>\n",
              "      <th>min</th>\n",
              "      <td>0.000000</td>\n",
              "      <td>19.000000</td>\n",
              "      <td>0.000000</td>\n",
              "      <td>250.000000</td>\n",
              "      <td>4.000000</td>\n",
              "    </tr>\n",
              "    <tr>\n",
              "      <th>25%</th>\n",
              "      <td>249.750000</td>\n",
              "      <td>27.000000</td>\n",
              "      <td>2.000000</td>\n",
              "      <td>1365.500000</td>\n",
              "      <td>12.000000</td>\n",
              "    </tr>\n",
              "    <tr>\n",
              "      <th>50%</th>\n",
              "      <td>499.500000</td>\n",
              "      <td>33.000000</td>\n",
              "      <td>2.000000</td>\n",
              "      <td>2319.500000</td>\n",
              "      <td>18.000000</td>\n",
              "    </tr>\n",
              "    <tr>\n",
              "      <th>75%</th>\n",
              "      <td>749.250000</td>\n",
              "      <td>42.000000</td>\n",
              "      <td>2.000000</td>\n",
              "      <td>3972.250000</td>\n",
              "      <td>24.000000</td>\n",
              "    </tr>\n",
              "    <tr>\n",
              "      <th>max</th>\n",
              "      <td>999.000000</td>\n",
              "      <td>75.000000</td>\n",
              "      <td>3.000000</td>\n",
              "      <td>18424.000000</td>\n",
              "      <td>72.000000</td>\n",
              "    </tr>\n",
              "  </tbody>\n",
              "</table>\n",
              "</div>"
            ],
            "text/plain": [
              "        Unnamed: 0          Age          Job  Credit amount     Duration\n",
              "count  1000.000000  1000.000000  1000.000000    1000.000000  1000.000000\n",
              "mean    499.500000    35.546000     1.904000    3271.258000    20.903000\n",
              "std     288.819436    11.375469     0.653614    2822.736876    12.058814\n",
              "min       0.000000    19.000000     0.000000     250.000000     4.000000\n",
              "25%     249.750000    27.000000     2.000000    1365.500000    12.000000\n",
              "50%     499.500000    33.000000     2.000000    2319.500000    18.000000\n",
              "75%     749.250000    42.000000     2.000000    3972.250000    24.000000\n",
              "max     999.000000    75.000000     3.000000   18424.000000    72.000000"
            ]
          },
          "metadata": {
            "tags": []
          },
          "execution_count": 4
        }
      ]
    },
    {
      "cell_type": "markdown",
      "metadata": {
        "id": "zS8YACtq75yV"
      },
      "source": [
        "**Observation:** Looking at the count, the dataset has no missing data. As well, looking at the mean, the magnitude of the dataset is not the same."
      ]
    },
    {
      "cell_type": "code",
      "metadata": {
        "colab": {
          "base_uri": "https://localhost:8080/"
        },
        "id": "jW0qa6h-8HlX",
        "outputId": "9bc321e2-3a9c-4887-cfe6-6548db16d8f0"
      },
      "source": [
        "# checking the data types: Object = string, int64 = integers\n",
        "df.dtypes"
      ],
      "execution_count": null,
      "outputs": [
        {
          "output_type": "execute_result",
          "data": {
            "text/plain": [
              "Unnamed: 0           int64\n",
              "Age                  int64\n",
              "Sex                 object\n",
              "Job                  int64\n",
              "Housing             object\n",
              "Saving accounts     object\n",
              "Checking account    object\n",
              "Credit amount        int64\n",
              "Duration             int64\n",
              "Purpose             object\n",
              "Risk                object\n",
              "dtype: object"
            ]
          },
          "metadata": {
            "tags": []
          },
          "execution_count": 5
        }
      ]
    },
    {
      "cell_type": "markdown",
      "metadata": {
        "id": "l6DCjINJ8O24"
      },
      "source": [
        "**Observation:** The dataset has both strings and integers. "
      ]
    },
    {
      "cell_type": "code",
      "metadata": {
        "id": "F2gcBS9t8WvL"
      },
      "source": [
        "# dropping 'Unnamed: 0' variable: \n",
        "df = df.drop(columns = ['Unnamed: 0'])"
      ],
      "execution_count": null,
      "outputs": []
    },
    {
      "cell_type": "code",
      "metadata": {
        "colab": {
          "base_uri": "https://localhost:8080/",
          "height": 411
        },
        "id": "pjfDKkiy8gTI",
        "outputId": "84d3db16-b905-4a3f-a76b-f3bb7f48ba87"
      },
      "source": [
        "# Viewing the ne dataset\n",
        "df"
      ],
      "execution_count": null,
      "outputs": [
        {
          "output_type": "execute_result",
          "data": {
            "text/html": [
              "<div>\n",
              "<style scoped>\n",
              "    .dataframe tbody tr th:only-of-type {\n",
              "        vertical-align: middle;\n",
              "    }\n",
              "\n",
              "    .dataframe tbody tr th {\n",
              "        vertical-align: top;\n",
              "    }\n",
              "\n",
              "    .dataframe thead th {\n",
              "        text-align: right;\n",
              "    }\n",
              "</style>\n",
              "<table border=\"1\" class=\"dataframe\">\n",
              "  <thead>\n",
              "    <tr style=\"text-align: right;\">\n",
              "      <th></th>\n",
              "      <th>Age</th>\n",
              "      <th>Sex</th>\n",
              "      <th>Job</th>\n",
              "      <th>Housing</th>\n",
              "      <th>Saving accounts</th>\n",
              "      <th>Checking account</th>\n",
              "      <th>Credit amount</th>\n",
              "      <th>Duration</th>\n",
              "      <th>Purpose</th>\n",
              "      <th>Risk</th>\n",
              "    </tr>\n",
              "  </thead>\n",
              "  <tbody>\n",
              "    <tr>\n",
              "      <th>0</th>\n",
              "      <td>67</td>\n",
              "      <td>male</td>\n",
              "      <td>2</td>\n",
              "      <td>own</td>\n",
              "      <td>NaN</td>\n",
              "      <td>little</td>\n",
              "      <td>1169</td>\n",
              "      <td>6</td>\n",
              "      <td>radio/TV</td>\n",
              "      <td>good</td>\n",
              "    </tr>\n",
              "    <tr>\n",
              "      <th>1</th>\n",
              "      <td>22</td>\n",
              "      <td>female</td>\n",
              "      <td>2</td>\n",
              "      <td>own</td>\n",
              "      <td>little</td>\n",
              "      <td>moderate</td>\n",
              "      <td>5951</td>\n",
              "      <td>48</td>\n",
              "      <td>radio/TV</td>\n",
              "      <td>bad</td>\n",
              "    </tr>\n",
              "    <tr>\n",
              "      <th>2</th>\n",
              "      <td>49</td>\n",
              "      <td>male</td>\n",
              "      <td>1</td>\n",
              "      <td>own</td>\n",
              "      <td>little</td>\n",
              "      <td>NaN</td>\n",
              "      <td>2096</td>\n",
              "      <td>12</td>\n",
              "      <td>education</td>\n",
              "      <td>good</td>\n",
              "    </tr>\n",
              "    <tr>\n",
              "      <th>3</th>\n",
              "      <td>45</td>\n",
              "      <td>male</td>\n",
              "      <td>2</td>\n",
              "      <td>free</td>\n",
              "      <td>little</td>\n",
              "      <td>little</td>\n",
              "      <td>7882</td>\n",
              "      <td>42</td>\n",
              "      <td>furniture/equipment</td>\n",
              "      <td>good</td>\n",
              "    </tr>\n",
              "    <tr>\n",
              "      <th>4</th>\n",
              "      <td>53</td>\n",
              "      <td>male</td>\n",
              "      <td>2</td>\n",
              "      <td>free</td>\n",
              "      <td>little</td>\n",
              "      <td>little</td>\n",
              "      <td>4870</td>\n",
              "      <td>24</td>\n",
              "      <td>car</td>\n",
              "      <td>bad</td>\n",
              "    </tr>\n",
              "    <tr>\n",
              "      <th>...</th>\n",
              "      <td>...</td>\n",
              "      <td>...</td>\n",
              "      <td>...</td>\n",
              "      <td>...</td>\n",
              "      <td>...</td>\n",
              "      <td>...</td>\n",
              "      <td>...</td>\n",
              "      <td>...</td>\n",
              "      <td>...</td>\n",
              "      <td>...</td>\n",
              "    </tr>\n",
              "    <tr>\n",
              "      <th>995</th>\n",
              "      <td>31</td>\n",
              "      <td>female</td>\n",
              "      <td>1</td>\n",
              "      <td>own</td>\n",
              "      <td>little</td>\n",
              "      <td>NaN</td>\n",
              "      <td>1736</td>\n",
              "      <td>12</td>\n",
              "      <td>furniture/equipment</td>\n",
              "      <td>good</td>\n",
              "    </tr>\n",
              "    <tr>\n",
              "      <th>996</th>\n",
              "      <td>40</td>\n",
              "      <td>male</td>\n",
              "      <td>3</td>\n",
              "      <td>own</td>\n",
              "      <td>little</td>\n",
              "      <td>little</td>\n",
              "      <td>3857</td>\n",
              "      <td>30</td>\n",
              "      <td>car</td>\n",
              "      <td>good</td>\n",
              "    </tr>\n",
              "    <tr>\n",
              "      <th>997</th>\n",
              "      <td>38</td>\n",
              "      <td>male</td>\n",
              "      <td>2</td>\n",
              "      <td>own</td>\n",
              "      <td>little</td>\n",
              "      <td>NaN</td>\n",
              "      <td>804</td>\n",
              "      <td>12</td>\n",
              "      <td>radio/TV</td>\n",
              "      <td>good</td>\n",
              "    </tr>\n",
              "    <tr>\n",
              "      <th>998</th>\n",
              "      <td>23</td>\n",
              "      <td>male</td>\n",
              "      <td>2</td>\n",
              "      <td>free</td>\n",
              "      <td>little</td>\n",
              "      <td>little</td>\n",
              "      <td>1845</td>\n",
              "      <td>45</td>\n",
              "      <td>radio/TV</td>\n",
              "      <td>bad</td>\n",
              "    </tr>\n",
              "    <tr>\n",
              "      <th>999</th>\n",
              "      <td>27</td>\n",
              "      <td>male</td>\n",
              "      <td>2</td>\n",
              "      <td>own</td>\n",
              "      <td>moderate</td>\n",
              "      <td>moderate</td>\n",
              "      <td>4576</td>\n",
              "      <td>45</td>\n",
              "      <td>car</td>\n",
              "      <td>good</td>\n",
              "    </tr>\n",
              "  </tbody>\n",
              "</table>\n",
              "<p>1000 rows × 10 columns</p>\n",
              "</div>"
            ],
            "text/plain": [
              "     Age     Sex  Job  ... Duration              Purpose  Risk\n",
              "0     67    male    2  ...        6             radio/TV  good\n",
              "1     22  female    2  ...       48             radio/TV   bad\n",
              "2     49    male    1  ...       12            education  good\n",
              "3     45    male    2  ...       42  furniture/equipment  good\n",
              "4     53    male    2  ...       24                  car   bad\n",
              "..   ...     ...  ...  ...      ...                  ...   ...\n",
              "995   31  female    1  ...       12  furniture/equipment  good\n",
              "996   40    male    3  ...       30                  car  good\n",
              "997   38    male    2  ...       12             radio/TV  good\n",
              "998   23    male    2  ...       45             radio/TV   bad\n",
              "999   27    male    2  ...       45                  car  good\n",
              "\n",
              "[1000 rows x 10 columns]"
            ]
          },
          "metadata": {
            "tags": []
          },
          "execution_count": 7
        }
      ]
    },
    {
      "cell_type": "markdown",
      "metadata": {
        "id": "hGVipuYU8nwz"
      },
      "source": [
        "**Observation:** The dataset has the unnamed variable dropped."
      ]
    },
    {
      "cell_type": "code",
      "metadata": {
        "colab": {
          "base_uri": "https://localhost:8080/"
        },
        "id": "PMDbgE-U9TJC",
        "outputId": "98c0e82f-0a92-4f24-9bb6-4591868ece25"
      },
      "source": [
        "# getting the unique values of each variable\n",
        "cols = df.columns.to_list()\n",
        "\n",
        "for col in cols:\n",
        "    print(\"Variable:\", col)\n",
        "    print(\"Number of unique values:\", df[col].nunique())\n",
        "    print(df[col].unique())\n",
        "    print()"
      ],
      "execution_count": null,
      "outputs": [
        {
          "output_type": "stream",
          "text": [
            "Variable: Age\n",
            "Number of unique values: 53\n",
            "[67 22 49 45 53 35 61 28 25 24 60 32 44 31 48 26 36 39 42 34 63 27 30 57\n",
            " 33 37 58 23 29 52 50 46 51 41 40 66 47 56 54 20 21 38 70 65 74 68 43 55\n",
            " 64 75 19 62 59]\n",
            "\n",
            "Variable: Sex\n",
            "Number of unique values: 2\n",
            "['male' 'female']\n",
            "\n",
            "Variable: Job\n",
            "Number of unique values: 4\n",
            "[2 1 3 0]\n",
            "\n",
            "Variable: Housing\n",
            "Number of unique values: 3\n",
            "['own' 'free' 'rent']\n",
            "\n",
            "Variable: Saving accounts\n",
            "Number of unique values: 4\n",
            "[nan 'little' 'quite rich' 'rich' 'moderate']\n",
            "\n",
            "Variable: Checking account\n",
            "Number of unique values: 3\n",
            "['little' 'moderate' nan 'rich']\n",
            "\n",
            "Variable: Credit amount\n",
            "Number of unique values: 921\n",
            "[ 1169  5951  2096  7882  4870  9055  2835  6948  3059  5234  1295  4308\n",
            "  1567  1199  1403  1282  2424  8072 12579  3430  2134  2647  2241  1804\n",
            "  2069  1374   426   409  2415  6836  1913  4020  5866  1264  1474  4746\n",
            "  6110  2100  1225   458  2333  1158  6204  6187  6143  1393  2299  1352\n",
            "  7228  2073  5965  1262  3378  2225   783  6468  9566  1961  6229  1391\n",
            "  1537  1953 14421  3181  5190  2171  1007  1819  2394  8133   730  1164\n",
            "  5954  1977  1526  3965  4771  9436  3832  5943  1213  1568  1755  2315\n",
            "  1412 12612  2249  1108   618  1409   797  3617  1318 15945  2012  2622\n",
            "  2337  7057  1469  2323   932  1919  2445 11938  6458  6078  7721  1410\n",
            "  1449   392  6260  7855  1680  3578  7174  2132  4281  2366  1835  3868\n",
            "  1768   781  1924  2121   701   639  1860  3499  8487  6887  2708  1984\n",
            " 10144  1240  8613   766  2728  1881   709  4795  3416  2462  2288  3566\n",
            "   860   682  5371  1582  1346  5848  7758  6967  1288   339  3512  1898\n",
            "  2872  1055  7308   909  2978  1131  1577  3972  1935   950   763  2064\n",
            "  1414  3414  7485  2577   338  1963   571  9572  4455  1647  3777   884\n",
            "  1360  5129  1175   674  3244  4591  3844  3915  2108  3031  1501  1382\n",
            "   951  2760  4297   936  1168  5117   902  1495 10623  1424  6568  1413\n",
            "  3074  3835  5293  1908  3342  3104  3913  3021  1364   625  1200   707\n",
            "  4657  2613 10961  7865  1478  3149  4210  2507  2141   866  1544  1823\n",
            " 14555  2767  1291  2522   915  1595  4605  1185  3447  1258   717  1204\n",
            "  1925   433   666  2251  2150  4151  2030  7418  2684  2149  3812  1154\n",
            "  1657  1603  5302  2748  1231   802  6304  1533  8978   999  2662  1402\n",
            " 12169  3060 11998  2697  2404  4611  1901  3368  1574  1445  1520  3878\n",
            " 10722  4788  7582  1092  1024  1076  9398  6419  4796  7629  9960  4675\n",
            "  1287  2515  2745   672  3804  1344  1038 10127  1543  4811   727  1237\n",
            "   276  5381  5511  3749   685  1494  2746   708  4351  3643  4249  1938\n",
            "  2910  2659  1028  3398  5801  1525  4473  1068  6615  1864  7408 11590\n",
            "  4110  3384  2101  1275  4169  1521  5743  3599  3213  4439  3949  1459\n",
            "   882  3758  1743  1136  1236   959  3229  6199  1246  2331  4463   776\n",
            "  2406  1239  3399  2247  1766  2473  1542  3850  3650  3446  3001  3079\n",
            "  6070  2146 13756 14782  7685  2320   846 14318   362  2212 12976  1283\n",
            "  1330  4272  2238  1126  7374  2326  1820   983  3249  1957 11760  2578\n",
            "  2348  1223  1516  1473  1887  8648  2899  2039  2197  1053  3235   939\n",
            "  1967  7253  2292  1597  1381  5842  2579  8471  2782  1042  3186  2028\n",
            "   958  1591  2762  2779  2743  1149  1313  1190  3448 11328  1872  2058\n",
            "  2136  1484   660  3394   609  1884  1620  2629   719  5096  1244  1842\n",
            "  2576  1512 11054   518  2759  2670  4817  2679  3905  3386   343  4594\n",
            "  3620  1721  3017   754  1950  2924  1659  7238  2764  4679  3092   448\n",
            "   654  1238  1245  3114  2569  5152  1037  3573  1201  3622   960  1163\n",
            "  1209  3077  3757  1418  3518  1934  8318   368  2122  2996  9034  1585\n",
            "  1301  1323  3123  5493  1216  1207  1309  2360  6850  8588   759  4686\n",
            "  2687   585  2255  1361  7127  1203   700  5507  3190  7119  3488  1113\n",
            "  7966  1532  1503  2302   662  2273  2631  1311  3105  2319  3612  7763\n",
            "  3049  1534  2032  6350  2864  1255  1333  2022  1552   626  8858   996\n",
            "  1750  6999  1995  1331  2278  5003  3552  1928  2964  1546   683 12389\n",
            "  4712  1553  1372  3979  6758  3234  5433   806  1082  2788  2930  1927\n",
            "  2820   937  1056  3124  1388  2384  2133  2799  1289  1217  2246   385\n",
            "  1965  1572  2718  1358   931  1442  4241  2775  3863  2329   918  1837\n",
            "  3349  2828  4526  2671  2051  1300   741  3357  3632  1808 12204  9157\n",
            "  3676  3441   640  3652  1530  3914  1858  2600  1979  2116  1437  4042\n",
            "  3660  1444  1980  1355  1376 15653  1493  4370   750  1308  4623  1851\n",
            "  1880  7980  4583  1386   947   684  7476  1922  2303  8086  2346  3973\n",
            "   888 10222  4221  6361  1297   900  1050  1047  6314  3496  3609  4843\n",
            "  4139  5742 10366  2080  2580  4530  5150  5595  1453  1538  2279  5103\n",
            "  9857  6527  1347  2862  2753  3651   975  2896  4716  2284  1103   926\n",
            "  1800  1905  1123  6331  1377  2503  2528  5324  6560  2969  1206  2118\n",
            "   629  1198  2476  1138 14027  7596  1505  3148  6148  1337  1228   790\n",
            "  2570   250  1316  1882  6416  6403  1987   760  2603  3380  3990 11560\n",
            "  4380  6761  4280  2325  1048  3160  2483 14179  1797  2511  1274  5248\n",
            "  3029   428   976   841  5771  1555  1285  1299  1271   691  5045  2124\n",
            "  2214 12680  2463  1155  3108  2901  1655  2812  8065  3275  2223  1480\n",
            "  1371  3535  3509  5711  3872  4933  1940   836  1941  2675  2751  6224\n",
            "  5998  1188  6313  1221  2892  3062  2301  7511  1549  1795  7472  9271\n",
            "   590   930  9283  1778   907   484  9629  3051  3931  7432  1338  1554\n",
            " 15857  1345  1101  3016  2712   731  3780  1602  3966  4165  8335  6681\n",
            "  2375 11816  5084  2327   886   601  2957  2611  5179  2993  1943  1559\n",
            "  3422  3976  1249  2235  1471 10875   894  3343  3959  3577  5804  2169\n",
            "  2439  2210  2221  2389  3331  7409   652  7678  1343   874  3590  1322\n",
            "  3595  1422  6742  7814  9277  2181  1098  4057   795  2825 15672  6614\n",
            "  7824  2442  1829  5800  8947  2606  1592  2186  4153  2625  3485 10477\n",
            "  1278  1107  3763  3711  3594  3195  4454  4736  2991  2142  3161 18424\n",
            "  2848 14896  2359  3345  1817 12749  1366  2002  6872   697  1049 10297\n",
            "  1867  1747  1670  1224   522  1498   745  2063  6288  6842  3527   929\n",
            "  1455  1845  8358  2859  3621  2145  4113 10974  1893  3656  4006  3069\n",
            "  1740  2353  3556  2397   454  1715  2520  3568  7166  3939  1514  7393\n",
            "  1193  7297  2831   753  2427  2538  8386  4844  2923  8229  1433  6289\n",
            "  6579  3565  1569  1936  2390  1736  3857   804  4576]\n",
            "\n",
            "Variable: Duration\n",
            "Number of unique values: 33\n",
            "[ 6 48 12 42 24 36 30 15  9 10  7 60 18 45 11 27  8 54 20 14 33 21 16  4\n",
            " 47 13 22 39 28  5 26 72 40]\n",
            "\n",
            "Variable: Purpose\n",
            "Number of unique values: 8\n",
            "['radio/TV' 'education' 'furniture/equipment' 'car' 'business'\n",
            " 'domestic appliances' 'repairs' 'vacation/others']\n",
            "\n",
            "Variable: Risk\n",
            "Number of unique values: 2\n",
            "['good' 'bad']\n",
            "\n"
          ],
          "name": "stdout"
        }
      ]
    },
    {
      "cell_type": "markdown",
      "metadata": {
        "id": "_btx4-oJ9pHI"
      },
      "source": [
        "**Observation:** \n",
        "\n",
        "*   Unique values are displayed above for each variable.\n",
        "\n",
        "*   The savings and checking account variables have a nan unique value. This indicates that there are missing values."
      ]
    },
    {
      "cell_type": "code",
      "metadata": {
        "colab": {
          "base_uri": "https://localhost:8080/"
        },
        "id": "aIyHM01j_QGl",
        "outputId": "a79c212f-3d1a-40ce-fc34-78de706cbf9e"
      },
      "source": [
        "# check for missing values\n",
        "df.isna().sum()"
      ],
      "execution_count": null,
      "outputs": [
        {
          "output_type": "execute_result",
          "data": {
            "text/plain": [
              "Age                   0\n",
              "Sex                   0\n",
              "Job                   0\n",
              "Housing               0\n",
              "Saving accounts     183\n",
              "Checking account    394\n",
              "Credit amount         0\n",
              "Duration              0\n",
              "Purpose               0\n",
              "Risk                  0\n",
              "dtype: int64"
            ]
          },
          "metadata": {
            "tags": []
          },
          "execution_count": 9
        }
      ]
    },
    {
      "cell_type": "markdown",
      "metadata": {
        "id": "h9pmjDmbB1RV"
      },
      "source": [
        "# check for missing values\n",
        "df.isna().sum()"
      ]
    },
    {
      "cell_type": "markdown",
      "metadata": {
        "id": "yVk1gtivSQcq"
      },
      "source": [
        "**Observation:** \n",
        "\n",
        "*   missing values exist in the Savings accounts and Checking account variables.\n",
        "*   From the dataset, we can infer that the missing values are as a result of having persons who took credit from the bank but didn't have a savings accounts or checking account. \n",
        "*   Thus, we will save these missing values as \"NoSavingAccount\" and \"NoCheckingAccount\"."
      ]
    },
    {
      "cell_type": "code",
      "metadata": {
        "id": "JvNO_iCICf87"
      },
      "source": [
        "# dealing with missing values\n",
        "df[\"Saving accounts\"].fillna('NoSavingAcc', inplace= True)\n",
        "df[\"Checking account\"].fillna('NoCheckAcc', inplace= True)"
      ],
      "execution_count": null,
      "outputs": []
    },
    {
      "cell_type": "code",
      "metadata": {
        "colab": {
          "base_uri": "https://localhost:8080/"
        },
        "id": "G7NhJExTCmGx",
        "outputId": "a69ecbf6-cea7-4381-88dc-953976b6aaa4"
      },
      "source": [
        "# Re-checking for missing values\n",
        "df.isna().sum()"
      ],
      "execution_count": null,
      "outputs": [
        {
          "output_type": "execute_result",
          "data": {
            "text/plain": [
              "Age                 0\n",
              "Sex                 0\n",
              "Job                 0\n",
              "Housing             0\n",
              "Saving accounts     0\n",
              "Checking account    0\n",
              "Credit amount       0\n",
              "Duration            0\n",
              "Purpose             0\n",
              "Risk                0\n",
              "dtype: int64"
            ]
          },
          "metadata": {
            "tags": []
          },
          "execution_count": 11
        }
      ]
    },
    {
      "cell_type": "markdown",
      "metadata": {
        "id": "66WvM_W-Cr2L"
      },
      "source": [
        "**Observation:** All missing values in the dataset have been imputed."
      ]
    },
    {
      "cell_type": "code",
      "metadata": {
        "colab": {
          "base_uri": "https://localhost:8080/",
          "height": 485
        },
        "id": "tJWiqJQMC0tj",
        "outputId": "4da7c06f-cd34-41a2-ee04-0a68abda58e6"
      },
      "source": [
        "# checking for outliers\n",
        "plt.figure(figsize = (14, 8))\n",
        "df.boxplot()\n",
        "plt.show()"
      ],
      "execution_count": null,
      "outputs": [
        {
          "output_type": "display_data",
          "data": {
            "image/png": "[encoded data removed]",
            "text/plain": [
              "<Figure size 1008x576 with 1 Axes>"
            ]
          },
          "metadata": {
            "tags": [],
            "needs_background": "light"
          }
        }
      ]
    },
    {
      "cell_type": "markdown",
      "metadata": {
        "id": "w8gnrmegFJZi"
      },
      "source": [
        "**Observation:** Credit amount variable has outliers.\n"
      ]
    },
    {
      "cell_type": "code",
      "metadata": {
        "colab": {
          "base_uri": "https://localhost:8080/"
        },
        "id": "nXr7q-w3FUnR",
        "outputId": "20a4001b-c082-45f1-bbe4-844ce5c049f3"
      },
      "source": [
        "# standardizing variable names for readability\n",
        "df.columns = df.columns.str.strip().str.lower().str.replace(' ', '_').str.replace('(', '').str.replace(')', '')\n",
        "df.columns"
      ],
      "execution_count": null,
      "outputs": [
        {
          "output_type": "execute_result",
          "data": {
            "text/plain": [
              "Index(['age', 'sex', 'job', 'housing', 'saving_accounts', 'checking_account',\n",
              "       'credit_amount', 'duration', 'purpose', 'risk'],\n",
              "      dtype='object')"
            ]
          },
          "metadata": {
            "tags": []
          },
          "execution_count": 13
        }
      ]
    },
    {
      "cell_type": "markdown",
      "metadata": {
        "id": "H_RHMb1kFbQ-"
      },
      "source": [
        "**Observation:** All variable names have now been standardized."
      ]
    },
    {
      "cell_type": "code",
      "metadata": {
        "colab": {
          "base_uri": "https://localhost:8080/",
          "height": 286
        },
        "id": "t2EvEnXZFmps",
        "outputId": "eb1164e6-52bc-45f8-d03d-de32559b0802"
      },
      "source": [
        "# univariate analysis: age variable\n",
        "sns.distplot(df.age);"
      ],
      "execution_count": null,
      "outputs": [
        {
          "output_type": "display_data",
          "data": {
            "image/png": "[encoded data removed]",
            "text/plain": [
              "<Figure size 432x288 with 1 Axes>"
            ]
          },
          "metadata": {
            "tags": [],
            "needs_background": "light"
          }
        }
      ]
    },
    {
      "cell_type": "markdown",
      "metadata": {
        "id": "KMkqlyjsF-lc"
      },
      "source": [
        "**Observation:** The 'age' variable is not normally distributed. It is skewed to the right.\n",
        "\n"
      ]
    },
    {
      "cell_type": "code",
      "metadata": {
        "colab": {
          "base_uri": "https://localhost:8080/",
          "height": 268
        },
        "id": "72nK5gIfGFsz",
        "outputId": "5835f40e-a3fa-489d-e182-cba206354267"
      },
      "source": [
        "# univariate analysis: sex variable\n",
        "plt.figure(figsize = (5, 4))\n",
        "df.sex.value_counts().plot(kind = 'bar', rot = 0);"
      ],
      "execution_count": null,
      "outputs": [
        {
          "output_type": "display_data",
          "data": {
            "image/png": "[encoded data removed]",
            "text/plain": [
              "<Figure size 360x288 with 1 Axes>"
            ]
          },
          "metadata": {
            "tags": [],
            "needs_background": "light"
          }
        }
      ]
    },
    {
      "cell_type": "markdown",
      "metadata": {
        "id": "Vz3WXS8DGKxd"
      },
      "source": [
        "**Observation:** There are more males than females"
      ]
    },
    {
      "cell_type": "code",
      "metadata": {
        "colab": {
          "base_uri": "https://localhost:8080/",
          "height": 268
        },
        "id": "Mfi__EjEJP9n",
        "outputId": "ce191987-6c19-4c16-9009-56f329b6bdf9"
      },
      "source": [
        "# univariate analysis: job variable\n",
        "plt.figure(figsize = (5, 4))\n",
        "df.job.value_counts().plot(kind = 'bar', rot = 0);"
      ],
      "execution_count": null,
      "outputs": [
        {
          "output_type": "display_data",
          "data": {
            "image/png": "[encoded data removed]",
            "text/plain": [
              "<Figure size 360x288 with 1 Axes>"
            ]
          },
          "metadata": {
            "tags": [],
            "needs_background": "light"
          }
        }
      ]
    },
    {
      "cell_type": "markdown",
      "metadata": {
        "id": "bl5gIeQyJaJk"
      },
      "source": [
        "**Observation:** Job category 2 has the highest count of people whereas 0 has the least number of people."
      ]
    },
    {
      "cell_type": "code",
      "metadata": {
        "colab": {
          "base_uri": "https://localhost:8080/",
          "height": 268
        },
        "id": "Bp5lYQlAJyDz",
        "outputId": "7e3a7642-c457-4adb-b135-0df90101df71"
      },
      "source": [
        "# univariate analysis: housing variable\n",
        "plt.figure(figsize = (5, 4))\n",
        "df.housing.value_counts().plot(kind = 'bar', rot = 0);"
      ],
      "execution_count": null,
      "outputs": [
        {
          "output_type": "display_data",
          "data": {
            "image/png": "[encoded data removed]",
            "text/plain": [
              "<Figure size 360x288 with 1 Axes>"
            ]
          },
          "metadata": {
            "tags": [],
            "needs_background": "light"
          }
        }
      ]
    },
    {
      "cell_type": "markdown",
      "metadata": {
        "id": "KUlOz2wXJ08F"
      },
      "source": [
        "**Observation:** Majority of people own their own houses, followed at a distant 2nd by those who rent the houses they live in while those who live for free in the houses are the least."
      ]
    },
    {
      "cell_type": "code",
      "metadata": {
        "colab": {
          "base_uri": "https://localhost:8080/",
          "height": 268
        },
        "id": "26KdF0R9Kzw0",
        "outputId": "3a92fcc0-5f99-40fb-dd4e-4c489c767a20"
      },
      "source": [
        "# univariate analysis: savings_account variable\n",
        "plt.figure(figsize = (8, 4))\n",
        "df.saving_accounts.value_counts().plot(kind = 'bar', rot = 0);"
      ],
      "execution_count": null,
      "outputs": [
        {
          "output_type": "display_data",
          "data": {
            "image/png": "[encoded data removed]",
            "text/plain": [
              "<Figure size 576x288 with 1 Axes>"
            ]
          },
          "metadata": {
            "tags": [],
            "needs_background": "light"
          }
        }
      ]
    },
    {
      "cell_type": "markdown",
      "metadata": {
        "id": "q7Q-BQ6nLCr2"
      },
      "source": [
        "**Observation:**\n",
        "\n",
        "*   Majority of people have little savings. There is also a vast difference between the number of people who have little savings and the rich (who are the least number of people).\n",
        "*   Several people have no savings account.\n",
        "*   Moderate and quite rich individuals fall below 100 people.\n",
        "\n",
        "\n"
      ]
    },
    {
      "cell_type": "code",
      "metadata": {
        "colab": {
          "base_uri": "https://localhost:8080/",
          "height": 268
        },
        "id": "K7de76LhNvfL",
        "outputId": "09a4ebfb-3bf3-4c00-dd8a-504018531cad"
      },
      "source": [
        "# univariate analysis: checking_account variable\n",
        "plt.figure(figsize = (5, 4))\n",
        "df.checking_account.value_counts().plot(kind = 'bar', rot = 0);"
      ],
      "execution_count": null,
      "outputs": [
        {
          "output_type": "display_data",
          "data": {
            "image/png": "[encoded data removed]",
            "text/plain": [
              "<Figure size 360x288 with 1 Axes>"
            ]
          },
          "metadata": {
            "tags": [],
            "needs_background": "light"
          }
        }
      ]
    },
    {
      "cell_type": "markdown",
      "metadata": {
        "id": "CTLCdo5EPuod"
      },
      "source": [
        "**Observation:** \n",
        "\n",
        "*   No checking accounts are the majority.\n",
        "*   little and moderate categories in checking accounts are almost equal.\n",
        "*   The rich have the least number of checking accounts.\n",
        "\n"
      ]
    },
    {
      "cell_type": "code",
      "metadata": {
        "colab": {
          "base_uri": "https://localhost:8080/",
          "height": 285
        },
        "id": "qa0XkESwWjVt",
        "outputId": "7304e74f-77d3-4119-941e-b869fee04ac1"
      },
      "source": [
        "# univariate analysis: credit_amount variable\n",
        "sns.distplot(df.credit_amount);"
      ],
      "execution_count": null,
      "outputs": [
        {
          "output_type": "display_data",
          "data": {
            "image/png": "[encoded data removed]",
            "text/plain": [
              "<Figure size 432x288 with 1 Axes>"
            ]
          },
          "metadata": {
            "tags": [],
            "needs_background": "light"
          }
        }
      ]
    },
    {
      "cell_type": "markdown",
      "metadata": {
        "id": "wzAJVCljXM5C"
      },
      "source": [
        "**Observation:** \n",
        "\n",
        "*   Majority of the credit falls under the 5k amount.\n",
        "*   credit_amount variable is not normally distributed. It's skewed more to the right.\n",
        "\n"
      ]
    },
    {
      "cell_type": "code",
      "metadata": {
        "colab": {
          "base_uri": "https://localhost:8080/",
          "height": 377
        },
        "id": "fG7QDSP8WsIk",
        "outputId": "363a2cdb-56e9-4e3d-c939-d39a36796eae"
      },
      "source": [
        "# univariate analysis: purpose variable\n",
        "plt.figure(figsize = (15, 6))\n",
        "df.purpose.value_counts().plot(kind = 'bar', rot = 0);"
      ],
      "execution_count": null,
      "outputs": [
        {
          "output_type": "display_data",
          "data": {
            "image/png": "[encoded data removed]",
            "text/plain": [
              "<Figure size 1080x432 with 1 Axes>"
            ]
          },
          "metadata": {
            "tags": [],
            "needs_background": "light"
          }
        }
      ]
    },
    {
      "cell_type": "markdown",
      "metadata": {
        "id": "riJd4dplYAef"
      },
      "source": [
        "**Observation:** Purpose for credit is mostly for car purchases with the least reason being credit for vacations."
      ]
    },
    {
      "cell_type": "code",
      "metadata": {
        "colab": {
          "base_uri": "https://localhost:8080/",
          "height": 285
        },
        "id": "Ujj0nxC2W0Bs",
        "outputId": "f3eabb8a-ec32-4f54-db9b-d0cdfac44833"
      },
      "source": [
        "# univariate analysis: duration variable\n",
        "sns.distplot(df.duration); "
      ],
      "execution_count": null,
      "outputs": [
        {
          "output_type": "display_data",
          "data": {
            "image/png": "[encoded data removed]",
            "text/plain": [
              "<Figure size 432x288 with 1 Axes>"
            ]
          },
          "metadata": {
            "tags": [],
            "needs_background": "light"
          }
        }
      ]
    },
    {
      "cell_type": "markdown",
      "metadata": {
        "id": "MAziEriZYfh8"
      },
      "source": [
        "**Observation:** Duration variable is skewed more to the right. It fails to be normally distributed. "
      ]
    },
    {
      "cell_type": "code",
      "metadata": {
        "colab": {
          "base_uri": "https://localhost:8080/",
          "height": 268
        },
        "id": "cmf6gog3W41Z",
        "outputId": "8b42b26c-2e5d-4e98-afb9-ff52b70d9962"
      },
      "source": [
        "# univariate analysis: purpose variable\n",
        "plt.figure(figsize = (5, 4))\n",
        "df.risk.value_counts().plot(kind = 'bar', rot = 0);"
      ],
      "execution_count": null,
      "outputs": [
        {
          "output_type": "display_data",
          "data": {
            "image/png": "[encoded data removed]",
            "text/plain": [
              "<Figure size 360x288 with 1 Axes>"
            ]
          },
          "metadata": {
            "tags": [],
            "needs_background": "light"
          }
        }
      ]
    },
    {
      "cell_type": "markdown",
      "metadata": {
        "id": "jcHaCfxVYpRq"
      },
      "source": [
        "**Observation:** Majority of the risk cases are good as compared to the bad risk."
      ]
    },
    {
      "cell_type": "code",
      "metadata": {
        "colab": {
          "base_uri": "https://localhost:8080/",
          "height": 339
        },
        "id": "z0QtklI6Y5VM",
        "outputId": "02a1af0b-e296-452f-d543-30935d3d4723"
      },
      "source": [
        "# Bivariate analysis:  relationship between our target variable 'risk' and the other variables.\n",
        "# bivariate analysis: risk by sex variables\n",
        "plt.figure(figsize = (6, 5))\n",
        "sns.countplot('sex', hue = 'risk', data = df);"
      ],
      "execution_count": null,
      "outputs": [
        {
          "output_type": "display_data",
          "data": {
            "image/png": "[encoded data removed]",
            "text/plain": [
              "<Figure size 432x360 with 1 Axes>"
            ]
          },
          "metadata": {
            "tags": [],
            "needs_background": "light"
          }
        }
      ]
    },
    {
      "cell_type": "markdown",
      "metadata": {
        "id": "14Qj5vCBZQ1y"
      },
      "source": [
        "**Observation:** \n",
        "\n",
        "*   More males than females are categorized as good risks.\n",
        "\n"
      ]
    },
    {
      "cell_type": "code",
      "metadata": {
        "colab": {
          "base_uri": "https://localhost:8080/",
          "height": 339
        },
        "id": "N6W2urb5ZhwW",
        "outputId": "85b700cf-4de9-4ffa-d96a-704f5b57bef8"
      },
      "source": [
        "# bivariate analysis: risk by job variable\n",
        "plt.figure(figsize = (6, 5))\n",
        "sns.countplot('job', hue = 'risk', data = df);"
      ],
      "execution_count": null,
      "outputs": [
        {
          "output_type": "display_data",
          "data": {
            "image/png": "[encoded data removed]",
            "text/plain": [
              "<Figure size 432x360 with 1 Axes>"
            ]
          },
          "metadata": {
            "tags": [],
            "needs_background": "light"
          }
        }
      ]
    },
    {
      "cell_type": "markdown",
      "metadata": {
        "id": "ULG_v6m1ZqnL"
      },
      "source": [
        "**Observation:** Job category 2 have the highest rating of good risk, whereas job category 0 has the least number of good and bad risk."
      ]
    },
    {
      "cell_type": "code",
      "metadata": {
        "colab": {
          "base_uri": "https://localhost:8080/",
          "height": 339
        },
        "id": "-94oE1J8aUI4",
        "outputId": "ce164a9b-69b2-4c8e-eede-34653da63554"
      },
      "source": [
        "# bivariate analysis: risk by housing variables\n",
        "plt.figure(figsize = (6, 5))\n",
        "sns.countplot('housing', hue = 'risk', data = df);"
      ],
      "execution_count": null,
      "outputs": [
        {
          "output_type": "display_data",
          "data": {
            "image/png": "[encoded data removed]",
            "text/plain": [
              "<Figure size 432x360 with 1 Axes>"
            ]
          },
          "metadata": {
            "tags": [],
            "needs_background": "light"
          }
        }
      ]
    },
    {
      "cell_type": "markdown",
      "metadata": {
        "id": "7RC6AB6rarDc"
      },
      "source": [
        "**Observation:** Majority of home owners are categorised as good risk, followed by those who rent. "
      ]
    },
    {
      "cell_type": "code",
      "metadata": {
        "colab": {
          "base_uri": "https://localhost:8080/",
          "height": 339
        },
        "id": "xJEXkasObA-N",
        "outputId": "95112915-4a17-4eb8-cad3-4f18d6584e71"
      },
      "source": [
        "# risk by checking_account variables\n",
        "plt.figure(figsize = (6, 5))\n",
        "sns.countplot('checking_account', hue = 'risk', data = df);"
      ],
      "execution_count": null,
      "outputs": [
        {
          "output_type": "display_data",
          "data": {
            "image/png": "[encoded data removed]",
            "text/plain": [
              "<Figure size 432x360 with 1 Axes>"
            ]
          },
          "metadata": {
            "tags": [],
            "needs_background": "light"
          }
        }
      ]
    },
    {
      "cell_type": "markdown",
      "metadata": {
        "id": "3hCTu76AbIQG"
      },
      "source": [
        "**Observation:** \n",
        "*   Those with no checking accounts seem to have the highest good risk category. \n",
        "*   Those under the litle category in the checking account have an almost similar risk comparity.\n",
        "*   The rich who have checking accounts have a good risk category."
      ]
    },
    {
      "cell_type": "code",
      "metadata": {
        "colab": {
          "base_uri": "https://localhost:8080/",
          "height": 339
        },
        "id": "fOMn6Psgbvgv",
        "outputId": "9222bfa8-e51b-4dfc-e5ad-e8622914719b"
      },
      "source": [
        "# risk by purpose variables\n",
        "plt.figure(figsize = (15, 5))\n",
        "sns.countplot('purpose', hue = 'risk', data = df);"
      ],
      "execution_count": null,
      "outputs": [
        {
          "output_type": "display_data",
          "data": {
            "image/png": "[encoded data removed]",
            "text/plain": [
              "<Figure size 1080x360 with 1 Axes>"
            ]
          },
          "metadata": {
            "tags": [],
            "needs_background": "light"
          }
        }
      ]
    },
    {
      "cell_type": "markdown",
      "metadata": {
        "id": "ylh-wYW9b4M1"
      },
      "source": [
        "**observation:** Those whose purpose of credit falls under car and radio have the highest rating of good risk."
      ]
    },
    {
      "cell_type": "code",
      "metadata": {
        "colab": {
          "base_uri": "https://localhost:8080/",
          "height": 490
        },
        "id": "lfropowtdEHL",
        "outputId": "b0f5ca5c-578b-4418-c3b9-df67e4d1248a"
      },
      "source": [
        "# heatmap to visualise features with linear relationships \n",
        "plt.figure(figsize = (8, 8))\n",
        "sns.heatmap(df.corr(), annot=True, );"
      ],
      "execution_count": null,
      "outputs": [
        {
          "output_type": "display_data",
          "data": {
            "image/png": "[encoded data removed]",
            "text/plain": [
              "<Figure size 576x576 with 2 Axes>"
            ]
          },
          "metadata": {
            "tags": [],
            "needs_background": "light"
          }
        }
      ]
    },
    {
      "cell_type": "markdown",
      "metadata": {
        "id": "sGcXGi6ydOe5"
      },
      "source": [
        "**Observation:** The variables duration and credit amount are strongly correlated. "
      ]
    },
    {
      "cell_type": "markdown",
      "metadata": {
        "id": "jTG-9vb9djf9"
      },
      "source": [
        "**Data Preparation**"
      ]
    },
    {
      "cell_type": "markdown",
      "metadata": {
        "id": "5XffkGs0ntnu"
      },
      "source": [
        "Our target variable (risk variable) needs to be binarized. Labels are as follows: 0: Bad 1: Good. "
      ]
    },
    {
      "cell_type": "code",
      "metadata": {
        "id": "Y56u3Z3AoKLw"
      },
      "source": [
        "# LabelBinarizer converts the string categorical variable to binary \n",
        "from sklearn.preprocessing import LabelBinarizer\n",
        "lb= LabelBinarizer()\n",
        "df[\"risk\"]= lb.fit_transform(df[\"risk\"])"
      ],
      "execution_count": null,
      "outputs": []
    },
    {
      "cell_type": "code",
      "metadata": {
        "colab": {
          "base_uri": "https://localhost:8080/",
          "height": 285
        },
        "id": "_DDAH_KvoPTQ",
        "outputId": "81c6fa5d-4aa2-46de-80d2-daa4af8dd182"
      },
      "source": [
        "# plotting risk distribution to understand whether there are more records \n",
        "# with more categories than the other.\n",
        "sns.countplot('risk', data = df);"
      ],
      "execution_count": null,
      "outputs": [
        {
          "output_type": "display_data",
          "data": {
            "image/png": "[encoded data removed]",
            "text/plain": [
              "<Figure size 432x288 with 1 Axes>"
            ]
          },
          "metadata": {
            "tags": [],
            "needs_background": "light"
          }
        }
      ]
    },
    {
      "cell_type": "markdown",
      "metadata": {
        "id": "Z_JI-hBJpUaY"
      },
      "source": [
        "**Observation:** We have an imbalanced dataset. This is to be sorted in sections below."
      ]
    },
    {
      "cell_type": "code",
      "metadata": {
        "id": "6s4Ya2ahprmS"
      },
      "source": [
        "# performing binning on duration numeric variable\n",
        "# we bin by specifying 6 bins\n",
        "df[\"duration\"] = pd.qcut(df.duration, q = 6)"
      ],
      "execution_count": null,
      "outputs": []
    },
    {
      "cell_type": "code",
      "metadata": {
        "id": "60VLOa2tpzux"
      },
      "source": [
        "# performing binning on age numeric variable\n",
        "# we bin by defining the intervals and categories\n",
        "interval = (18, 25, 35, 60, 120)\n",
        "categories = ['student', 'youth', 'adult', 'senior']\n",
        "df[\"age\"] = pd.cut(df.age, interval, labels = categories)"
      ],
      "execution_count": null,
      "outputs": []
    },
    {
      "cell_type": "code",
      "metadata": {
        "id": "ulVHUy1yp3sx"
      },
      "source": [
        "# performing binning on credit_amount numeric variable\n",
        "# this time we bin without specifying i.e. we create 6 bins\n",
        "df[\"credit_amount\"] = pd.qcut(df.credit_amount, q = 5)"
      ],
      "execution_count": null,
      "outputs": []
    },
    {
      "cell_type": "code",
      "metadata": {
        "id": "7hj27oF3qeum"
      },
      "source": [
        "# performing one hot encoding to the job categorical variable\n",
        "df = df.merge(pd.get_dummies(df.job, drop_first=True, prefix='job'), left_index=True, right_index=True)\n"
      ],
      "execution_count": null,
      "outputs": []
    },
    {
      "cell_type": "code",
      "metadata": {
        "id": "eeUcxeaiq0GY"
      },
      "source": [
        "# performing one hot encoding to the purpose categorical variable\n",
        "df = df.merge(pd.get_dummies(df.purpose, drop_first=True, prefix='purpose'), left_index=True, right_index=True)\n"
      ],
      "execution_count": null,
      "outputs": []
    },
    {
      "cell_type": "code",
      "metadata": {
        "id": "EInyyZalrQON"
      },
      "source": [
        "# performing one hot encoding to the sex variable\n",
        "df = df.merge(pd.get_dummies(df.sex, drop_first=True, prefix='sex'), left_index=True, right_index=True)"
      ],
      "execution_count": null,
      "outputs": []
    },
    {
      "cell_type": "code",
      "metadata": {
        "id": "TLmSSJyirhzG"
      },
      "source": [
        "# performing one hot encoding to the housing variable\n",
        "df = df.merge(pd.get_dummies(df.housing, drop_first=True, prefix='housing'), left_index=True, right_index=True)\n"
      ],
      "execution_count": null,
      "outputs": []
    },
    {
      "cell_type": "code",
      "metadata": {
        "id": "B6siLD4Ar4gS"
      },
      "source": [
        "# performing one hot encoding to the savings account variable\n",
        "df = df.merge(pd.get_dummies(df.saving_accounts, drop_first=True, prefix='savings'), left_index=True, right_index=True)\n"
      ],
      "execution_count": null,
      "outputs": []
    },
    {
      "cell_type": "code",
      "metadata": {
        "id": "4iswaso2r9-M"
      },
      "source": [
        "# performing one hot encoding to checking account variable\n",
        "df = df.merge(pd.get_dummies(df.checking_account, drop_first=True, prefix='check'), left_index=True, right_index=True)\n"
      ],
      "execution_count": null,
      "outputs": []
    },
    {
      "cell_type": "code",
      "metadata": {
        "id": "lRgAUSLnsCim"
      },
      "source": [
        "# performing one hot encoding to age variable\n",
        "df = df.merge(pd.get_dummies(df.age, drop_first=True, prefix='age'), left_index=True, right_index=True)"
      ],
      "execution_count": null,
      "outputs": []
    },
    {
      "cell_type": "code",
      "metadata": {
        "id": "d8Ji7MGQstkB"
      },
      "source": [
        "# performing one hot encoding to duration variable\n",
        "df = df.merge(pd.get_dummies(df.duration, drop_first=True, prefix='duration'), left_index=True, right_index=True)"
      ],
      "execution_count": null,
      "outputs": []
    },
    {
      "cell_type": "code",
      "metadata": {
        "id": "R_HaPMHSs0kZ"
      },
      "source": [
        "# performing one hot encoding to credit amount variable\n",
        "df = df.merge(pd.get_dummies(df.credit_amount, drop_first=True, prefix='credit_amount'), left_index=True, right_index=True)"
      ],
      "execution_count": null,
      "outputs": []
    },
    {
      "cell_type": "code",
      "metadata": {
        "colab": {
          "base_uri": "https://localhost:8080/",
          "height": 322
        },
        "id": "nJfwMaZstmLz",
        "outputId": "a756cb2c-8f1e-4515-82e5-3951254b21f9"
      },
      "source": [
        "# previewing the new created variables\n",
        "df.head()"
      ],
      "execution_count": null,
      "outputs": [
        {
          "output_type": "execute_result",
          "data": {
            "text/html": [
              "<div>\n",
              "<style scoped>\n",
              "    .dataframe tbody tr th:only-of-type {\n",
              "        vertical-align: middle;\n",
              "    }\n",
              "\n",
              "    .dataframe tbody tr th {\n",
              "        vertical-align: top;\n",
              "    }\n",
              "\n",
              "    .dataframe thead th {\n",
              "        text-align: right;\n",
              "    }\n",
              "</style>\n",
              "<table border=\"1\" class=\"dataframe\">\n",
              "  <thead>\n",
              "    <tr style=\"text-align: right;\">\n",
              "      <th></th>\n",
              "      <th>age</th>\n",
              "      <th>sex</th>\n",
              "      <th>job</th>\n",
              "      <th>housing</th>\n",
              "      <th>saving_accounts</th>\n",
              "      <th>checking_account</th>\n",
              "      <th>credit_amount</th>\n",
              "      <th>duration</th>\n",
              "      <th>purpose</th>\n",
              "      <th>risk</th>\n",
              "      <th>job_1</th>\n",
              "      <th>job_2</th>\n",
              "      <th>job_3</th>\n",
              "      <th>purpose_car</th>\n",
              "      <th>purpose_domestic appliances</th>\n",
              "      <th>purpose_education</th>\n",
              "      <th>purpose_furniture/equipment</th>\n",
              "      <th>purpose_radio/TV</th>\n",
              "      <th>purpose_repairs</th>\n",
              "      <th>purpose_vacation/others</th>\n",
              "      <th>sex_male</th>\n",
              "      <th>housing_own</th>\n",
              "      <th>housing_rent</th>\n",
              "      <th>savings_little</th>\n",
              "      <th>savings_moderate</th>\n",
              "      <th>savings_quite rich</th>\n",
              "      <th>savings_rich</th>\n",
              "      <th>check_little</th>\n",
              "      <th>check_moderate</th>\n",
              "      <th>check_rich</th>\n",
              "      <th>age_youth</th>\n",
              "      <th>age_adult</th>\n",
              "      <th>age_senior</th>\n",
              "      <th>duration_(10.0, 12.0]</th>\n",
              "      <th>duration_(12.0, 18.0]</th>\n",
              "      <th>duration_(18.0, 24.0]</th>\n",
              "      <th>duration_(24.0, 36.0]</th>\n",
              "      <th>duration_(36.0, 72.0]</th>\n",
              "      <th>credit_amount_(1262.0, 1906.8]</th>\n",
              "      <th>credit_amount_(1906.8, 2852.4]</th>\n",
              "      <th>credit_amount_(2852.4, 4720.0]</th>\n",
              "      <th>credit_amount_(4720.0, 18424.0]</th>\n",
              "    </tr>\n",
              "  </thead>\n",
              "  <tbody>\n",
              "    <tr>\n",
              "      <th>0</th>\n",
              "      <td>senior</td>\n",
              "      <td>male</td>\n",
              "      <td>2</td>\n",
              "      <td>own</td>\n",
              "      <td>NoSavingAcc</td>\n",
              "      <td>little</td>\n",
              "      <td>(249.999, 1262.0]</td>\n",
              "      <td>(3.999, 10.0]</td>\n",
              "      <td>radio/TV</td>\n",
              "      <td>1</td>\n",
              "      <td>0</td>\n",
              "      <td>1</td>\n",
              "      <td>0</td>\n",
              "      <td>0</td>\n",
              "      <td>0</td>\n",
              "      <td>0</td>\n",
              "      <td>0</td>\n",
              "      <td>1</td>\n",
              "      <td>0</td>\n",
              "      <td>0</td>\n",
              "      <td>1</td>\n",
              "      <td>1</td>\n",
              "      <td>0</td>\n",
              "      <td>0</td>\n",
              "      <td>0</td>\n",
              "      <td>0</td>\n",
              "      <td>0</td>\n",
              "      <td>1</td>\n",
              "      <td>0</td>\n",
              "      <td>0</td>\n",
              "      <td>0</td>\n",
              "      <td>0</td>\n",
              "      <td>1</td>\n",
              "      <td>0</td>\n",
              "      <td>0</td>\n",
              "      <td>0</td>\n",
              "      <td>0</td>\n",
              "      <td>0</td>\n",
              "      <td>0</td>\n",
              "      <td>0</td>\n",
              "      <td>0</td>\n",
              "      <td>0</td>\n",
              "    </tr>\n",
              "    <tr>\n",
              "      <th>1</th>\n",
              "      <td>student</td>\n",
              "      <td>female</td>\n",
              "      <td>2</td>\n",
              "      <td>own</td>\n",
              "      <td>little</td>\n",
              "      <td>moderate</td>\n",
              "      <td>(4720.0, 18424.0]</td>\n",
              "      <td>(36.0, 72.0]</td>\n",
              "      <td>radio/TV</td>\n",
              "      <td>0</td>\n",
              "      <td>0</td>\n",
              "      <td>1</td>\n",
              "      <td>0</td>\n",
              "      <td>0</td>\n",
              "      <td>0</td>\n",
              "      <td>0</td>\n",
              "      <td>0</td>\n",
              "      <td>1</td>\n",
              "      <td>0</td>\n",
              "      <td>0</td>\n",
              "      <td>0</td>\n",
              "      <td>1</td>\n",
              "      <td>0</td>\n",
              "      <td>1</td>\n",
              "      <td>0</td>\n",
              "      <td>0</td>\n",
              "      <td>0</td>\n",
              "      <td>0</td>\n",
              "      <td>1</td>\n",
              "      <td>0</td>\n",
              "      <td>0</td>\n",
              "      <td>0</td>\n",
              "      <td>0</td>\n",
              "      <td>0</td>\n",
              "      <td>0</td>\n",
              "      <td>0</td>\n",
              "      <td>0</td>\n",
              "      <td>1</td>\n",
              "      <td>0</td>\n",
              "      <td>0</td>\n",
              "      <td>0</td>\n",
              "      <td>1</td>\n",
              "    </tr>\n",
              "    <tr>\n",
              "      <th>2</th>\n",
              "      <td>adult</td>\n",
              "      <td>male</td>\n",
              "      <td>1</td>\n",
              "      <td>own</td>\n",
              "      <td>little</td>\n",
              "      <td>NoCheckAcc</td>\n",
              "      <td>(1906.8, 2852.4]</td>\n",
              "      <td>(10.0, 12.0]</td>\n",
              "      <td>education</td>\n",
              "      <td>1</td>\n",
              "      <td>1</td>\n",
              "      <td>0</td>\n",
              "      <td>0</td>\n",
              "      <td>0</td>\n",
              "      <td>0</td>\n",
              "      <td>1</td>\n",
              "      <td>0</td>\n",
              "      <td>0</td>\n",
              "      <td>0</td>\n",
              "      <td>0</td>\n",
              "      <td>1</td>\n",
              "      <td>1</td>\n",
              "      <td>0</td>\n",
              "      <td>1</td>\n",
              "      <td>0</td>\n",
              "      <td>0</td>\n",
              "      <td>0</td>\n",
              "      <td>0</td>\n",
              "      <td>0</td>\n",
              "      <td>0</td>\n",
              "      <td>0</td>\n",
              "      <td>1</td>\n",
              "      <td>0</td>\n",
              "      <td>1</td>\n",
              "      <td>0</td>\n",
              "      <td>0</td>\n",
              "      <td>0</td>\n",
              "      <td>0</td>\n",
              "      <td>0</td>\n",
              "      <td>1</td>\n",
              "      <td>0</td>\n",
              "      <td>0</td>\n",
              "    </tr>\n",
              "    <tr>\n",
              "      <th>3</th>\n",
              "      <td>adult</td>\n",
              "      <td>male</td>\n",
              "      <td>2</td>\n",
              "      <td>free</td>\n",
              "      <td>little</td>\n",
              "      <td>little</td>\n",
              "      <td>(4720.0, 18424.0]</td>\n",
              "      <td>(36.0, 72.0]</td>\n",
              "      <td>furniture/equipment</td>\n",
              "      <td>1</td>\n",
              "      <td>0</td>\n",
              "      <td>1</td>\n",
              "      <td>0</td>\n",
              "      <td>0</td>\n",
              "      <td>0</td>\n",
              "      <td>0</td>\n",
              "      <td>1</td>\n",
              "      <td>0</td>\n",
              "      <td>0</td>\n",
              "      <td>0</td>\n",
              "      <td>1</td>\n",
              "      <td>0</td>\n",
              "      <td>0</td>\n",
              "      <td>1</td>\n",
              "      <td>0</td>\n",
              "      <td>0</td>\n",
              "      <td>0</td>\n",
              "      <td>1</td>\n",
              "      <td>0</td>\n",
              "      <td>0</td>\n",
              "      <td>0</td>\n",
              "      <td>1</td>\n",
              "      <td>0</td>\n",
              "      <td>0</td>\n",
              "      <td>0</td>\n",
              "      <td>0</td>\n",
              "      <td>0</td>\n",
              "      <td>1</td>\n",
              "      <td>0</td>\n",
              "      <td>0</td>\n",
              "      <td>0</td>\n",
              "      <td>1</td>\n",
              "    </tr>\n",
              "    <tr>\n",
              "      <th>4</th>\n",
              "      <td>adult</td>\n",
              "      <td>male</td>\n",
              "      <td>2</td>\n",
              "      <td>free</td>\n",
              "      <td>little</td>\n",
              "      <td>little</td>\n",
              "      <td>(4720.0, 18424.0]</td>\n",
              "      <td>(18.0, 24.0]</td>\n",
              "      <td>car</td>\n",
              "      <td>0</td>\n",
              "      <td>0</td>\n",
              "      <td>1</td>\n",
              "      <td>0</td>\n",
              "      <td>1</td>\n",
              "      <td>0</td>\n",
              "      <td>0</td>\n",
              "      <td>0</td>\n",
              "      <td>0</td>\n",
              "      <td>0</td>\n",
              "      <td>0</td>\n",
              "      <td>1</td>\n",
              "      <td>0</td>\n",
              "      <td>0</td>\n",
              "      <td>1</td>\n",
              "      <td>0</td>\n",
              "      <td>0</td>\n",
              "      <td>0</td>\n",
              "      <td>1</td>\n",
              "      <td>0</td>\n",
              "      <td>0</td>\n",
              "      <td>0</td>\n",
              "      <td>1</td>\n",
              "      <td>0</td>\n",
              "      <td>0</td>\n",
              "      <td>0</td>\n",
              "      <td>1</td>\n",
              "      <td>0</td>\n",
              "      <td>0</td>\n",
              "      <td>0</td>\n",
              "      <td>0</td>\n",
              "      <td>0</td>\n",
              "      <td>1</td>\n",
              "    </tr>\n",
              "  </tbody>\n",
              "</table>\n",
              "</div>"
            ],
            "text/plain": [
              "       age  ... credit_amount_(4720.0, 18424.0]\n",
              "0   senior  ...                               0\n",
              "1  student  ...                               1\n",
              "2    adult  ...                               0\n",
              "3    adult  ...                               1\n",
              "4    adult  ...                               1\n",
              "\n",
              "[5 rows x 42 columns]"
            ]
          },
          "metadata": {
            "tags": []
          },
          "execution_count": 44
        }
      ]
    },
    {
      "cell_type": "code",
      "metadata": {
        "id": "4Fjl-mRHtu2o"
      },
      "source": [
        "# Excluding the columns that have been used to derive new new variables\n",
        "del df[\"job\"]\n",
        "del df[\"purpose\"]\n",
        "del df[\"sex\"]\n",
        "del df[\"housing\"]\n",
        "del df[\"saving_accounts\"]\n",
        "del df[\"checking_account\"]\n",
        "del df[\"age\"]\n",
        "del df[\"duration\"]\n",
        "del df[\"credit_amount\"]"
      ],
      "execution_count": null,
      "outputs": []
    },
    {
      "cell_type": "code",
      "metadata": {
        "colab": {
          "base_uri": "https://localhost:8080/",
          "height": 237
        },
        "id": "uAHbVrEnuLbB",
        "outputId": "92314e05-77d6-48e0-8d51-de8bf44fc222"
      },
      "source": [
        "# preview updated dataframe\n",
        "df.head()"
      ],
      "execution_count": null,
      "outputs": [
        {
          "output_type": "execute_result",
          "data": {
            "text/html": [
              "<div>\n",
              "<style scoped>\n",
              "    .dataframe tbody tr th:only-of-type {\n",
              "        vertical-align: middle;\n",
              "    }\n",
              "\n",
              "    .dataframe tbody tr th {\n",
              "        vertical-align: top;\n",
              "    }\n",
              "\n",
              "    .dataframe thead th {\n",
              "        text-align: right;\n",
              "    }\n",
              "</style>\n",
              "<table border=\"1\" class=\"dataframe\">\n",
              "  <thead>\n",
              "    <tr style=\"text-align: right;\">\n",
              "      <th></th>\n",
              "      <th>risk</th>\n",
              "      <th>job_1</th>\n",
              "      <th>job_2</th>\n",
              "      <th>job_3</th>\n",
              "      <th>purpose_car</th>\n",
              "      <th>purpose_domestic appliances</th>\n",
              "      <th>purpose_education</th>\n",
              "      <th>purpose_furniture/equipment</th>\n",
              "      <th>purpose_radio/TV</th>\n",
              "      <th>purpose_repairs</th>\n",
              "      <th>purpose_vacation/others</th>\n",
              "      <th>sex_male</th>\n",
              "      <th>housing_own</th>\n",
              "      <th>housing_rent</th>\n",
              "      <th>savings_little</th>\n",
              "      <th>savings_moderate</th>\n",
              "      <th>savings_quite rich</th>\n",
              "      <th>savings_rich</th>\n",
              "      <th>check_little</th>\n",
              "      <th>check_moderate</th>\n",
              "      <th>check_rich</th>\n",
              "      <th>age_youth</th>\n",
              "      <th>age_adult</th>\n",
              "      <th>age_senior</th>\n",
              "      <th>duration_(10.0, 12.0]</th>\n",
              "      <th>duration_(12.0, 18.0]</th>\n",
              "      <th>duration_(18.0, 24.0]</th>\n",
              "      <th>duration_(24.0, 36.0]</th>\n",
              "      <th>duration_(36.0, 72.0]</th>\n",
              "      <th>credit_amount_(1262.0, 1906.8]</th>\n",
              "      <th>credit_amount_(1906.8, 2852.4]</th>\n",
              "      <th>credit_amount_(2852.4, 4720.0]</th>\n",
              "      <th>credit_amount_(4720.0, 18424.0]</th>\n",
              "    </tr>\n",
              "  </thead>\n",
              "  <tbody>\n",
              "    <tr>\n",
              "      <th>0</th>\n",
              "      <td>1</td>\n",
              "      <td>0</td>\n",
              "      <td>1</td>\n",
              "      <td>0</td>\n",
              "      <td>0</td>\n",
              "      <td>0</td>\n",
              "      <td>0</td>\n",
              "      <td>0</td>\n",
              "      <td>1</td>\n",
              "      <td>0</td>\n",
              "      <td>0</td>\n",
              "      <td>1</td>\n",
              "      <td>1</td>\n",
              "      <td>0</td>\n",
              "      <td>0</td>\n",
              "      <td>0</td>\n",
              "      <td>0</td>\n",
              "      <td>0</td>\n",
              "      <td>1</td>\n",
              "      <td>0</td>\n",
              "      <td>0</td>\n",
              "      <td>0</td>\n",
              "      <td>0</td>\n",
              "      <td>1</td>\n",
              "      <td>0</td>\n",
              "      <td>0</td>\n",
              "      <td>0</td>\n",
              "      <td>0</td>\n",
              "      <td>0</td>\n",
              "      <td>0</td>\n",
              "      <td>0</td>\n",
              "      <td>0</td>\n",
              "      <td>0</td>\n",
              "    </tr>\n",
              "    <tr>\n",
              "      <th>1</th>\n",
              "      <td>0</td>\n",
              "      <td>0</td>\n",
              "      <td>1</td>\n",
              "      <td>0</td>\n",
              "      <td>0</td>\n",
              "      <td>0</td>\n",
              "      <td>0</td>\n",
              "      <td>0</td>\n",
              "      <td>1</td>\n",
              "      <td>0</td>\n",
              "      <td>0</td>\n",
              "      <td>0</td>\n",
              "      <td>1</td>\n",
              "      <td>0</td>\n",
              "      <td>1</td>\n",
              "      <td>0</td>\n",
              "      <td>0</td>\n",
              "      <td>0</td>\n",
              "      <td>0</td>\n",
              "      <td>1</td>\n",
              "      <td>0</td>\n",
              "      <td>0</td>\n",
              "      <td>0</td>\n",
              "      <td>0</td>\n",
              "      <td>0</td>\n",
              "      <td>0</td>\n",
              "      <td>0</td>\n",
              "      <td>0</td>\n",
              "      <td>1</td>\n",
              "      <td>0</td>\n",
              "      <td>0</td>\n",
              "      <td>0</td>\n",
              "      <td>1</td>\n",
              "    </tr>\n",
              "    <tr>\n",
              "      <th>2</th>\n",
              "      <td>1</td>\n",
              "      <td>1</td>\n",
              "      <td>0</td>\n",
              "      <td>0</td>\n",
              "      <td>0</td>\n",
              "      <td>0</td>\n",
              "      <td>1</td>\n",
              "      <td>0</td>\n",
              "      <td>0</td>\n",
              "      <td>0</td>\n",
              "      <td>0</td>\n",
              "      <td>1</td>\n",
              "      <td>1</td>\n",
              "      <td>0</td>\n",
              "      <td>1</td>\n",
              "      <td>0</td>\n",
              "      <td>0</td>\n",
              "      <td>0</td>\n",
              "      <td>0</td>\n",
              "      <td>0</td>\n",
              "      <td>0</td>\n",
              "      <td>0</td>\n",
              "      <td>1</td>\n",
              "      <td>0</td>\n",
              "      <td>1</td>\n",
              "      <td>0</td>\n",
              "      <td>0</td>\n",
              "      <td>0</td>\n",
              "      <td>0</td>\n",
              "      <td>0</td>\n",
              "      <td>1</td>\n",
              "      <td>0</td>\n",
              "      <td>0</td>\n",
              "    </tr>\n",
              "    <tr>\n",
              "      <th>3</th>\n",
              "      <td>1</td>\n",
              "      <td>0</td>\n",
              "      <td>1</td>\n",
              "      <td>0</td>\n",
              "      <td>0</td>\n",
              "      <td>0</td>\n",
              "      <td>0</td>\n",
              "      <td>1</td>\n",
              "      <td>0</td>\n",
              "      <td>0</td>\n",
              "      <td>0</td>\n",
              "      <td>1</td>\n",
              "      <td>0</td>\n",
              "      <td>0</td>\n",
              "      <td>1</td>\n",
              "      <td>0</td>\n",
              "      <td>0</td>\n",
              "      <td>0</td>\n",
              "      <td>1</td>\n",
              "      <td>0</td>\n",
              "      <td>0</td>\n",
              "      <td>0</td>\n",
              "      <td>1</td>\n",
              "      <td>0</td>\n",
              "      <td>0</td>\n",
              "      <td>0</td>\n",
              "      <td>0</td>\n",
              "      <td>0</td>\n",
              "      <td>1</td>\n",
              "      <td>0</td>\n",
              "      <td>0</td>\n",
              "      <td>0</td>\n",
              "      <td>1</td>\n",
              "    </tr>\n",
              "    <tr>\n",
              "      <th>4</th>\n",
              "      <td>0</td>\n",
              "      <td>0</td>\n",
              "      <td>1</td>\n",
              "      <td>0</td>\n",
              "      <td>1</td>\n",
              "      <td>0</td>\n",
              "      <td>0</td>\n",
              "      <td>0</td>\n",
              "      <td>0</td>\n",
              "      <td>0</td>\n",
              "      <td>0</td>\n",
              "      <td>1</td>\n",
              "      <td>0</td>\n",
              "      <td>0</td>\n",
              "      <td>1</td>\n",
              "      <td>0</td>\n",
              "      <td>0</td>\n",
              "      <td>0</td>\n",
              "      <td>1</td>\n",
              "      <td>0</td>\n",
              "      <td>0</td>\n",
              "      <td>0</td>\n",
              "      <td>1</td>\n",
              "      <td>0</td>\n",
              "      <td>0</td>\n",
              "      <td>0</td>\n",
              "      <td>1</td>\n",
              "      <td>0</td>\n",
              "      <td>0</td>\n",
              "      <td>0</td>\n",
              "      <td>0</td>\n",
              "      <td>0</td>\n",
              "      <td>1</td>\n",
              "    </tr>\n",
              "  </tbody>\n",
              "</table>\n",
              "</div>"
            ],
            "text/plain": [
              "   risk  job_1  ...  credit_amount_(2852.4, 4720.0]  credit_amount_(4720.0, 18424.0]\n",
              "0     1      0  ...                               0                                0\n",
              "1     0      0  ...                               0                                1\n",
              "2     1      1  ...                               0                                0\n",
              "3     1      0  ...                               0                                1\n",
              "4     0      0  ...                               0                                1\n",
              "\n",
              "[5 rows x 33 columns]"
            ]
          },
          "metadata": {
            "tags": []
          },
          "execution_count": 46
        }
      ]
    },
    {
      "cell_type": "code",
      "metadata": {
        "colab": {
          "base_uri": "https://localhost:8080/"
        },
        "id": "FJOBcSJ20xIt",
        "outputId": "6a34830b-0b01-4f14-b4b3-0f75a4a5fb84"
      },
      "source": [
        "# dividing our dataset into features (X) and target (y)\n",
        "X = df.drop(columns = ['risk']).values\n",
        "y = df['risk'].values\n",
        "\n",
        "print(X.shape)\n",
        "print(y.shape)"
      ],
      "execution_count": null,
      "outputs": [
        {
          "output_type": "stream",
          "text": [
            "(1000, 32)\n",
            "(1000,)\n"
          ],
          "name": "stdout"
        }
      ]
    },
    {
      "cell_type": "markdown",
      "metadata": {
        "id": "ilViTGr52NpE"
      },
      "source": [
        "**Observation:** All independent variables have been saved in the variable X whereas the dependant variable, risk, has been saved in variable y."
      ]
    },
    {
      "cell_type": "code",
      "metadata": {
        "id": "PrK9SDwH3tiy"
      },
      "source": [
        "# splitting our dataset into 80-20 train-test sets\n",
        "from sklearn.model_selection import train_test_split \n",
        "X_train, X_test, y_train, y_test = train_test_split(X, y, test_size = 0.2, random_state = 42, stratify = y)"
      ],
      "execution_count": null,
      "outputs": []
    },
    {
      "cell_type": "code",
      "metadata": {
        "id": "m5dbxwVm320m"
      },
      "source": [
        "# Using SMOTE to balance our target variable.\n",
        "# This technique works randomly picking a point from the minority class and computing the k-nearest neighbors for this point. \n",
        "# The synthetic points are added between the chosen point and its neighbors.\n",
        "\n",
        "# creating a balanced dataset\n",
        "from imblearn.over_sampling import SMOTE\n",
        "smt = SMOTE()\n",
        "X_train, y_train = smt.fit_sample(X_train, y_train)\n"
      ],
      "execution_count": null,
      "outputs": []
    },
    {
      "cell_type": "code",
      "metadata": {
        "colab": {
          "base_uri": "https://localhost:8080/"
        },
        "id": "sEi6Tx2x4MM5",
        "outputId": "a645c45c-db38-4c24-805e-5a623154cfc5"
      },
      "source": [
        "# Checking the amount of records in each category\n",
        "np.bincount(y_train)"
      ],
      "execution_count": null,
      "outputs": [
        {
          "output_type": "execute_result",
          "data": {
            "text/plain": [
              "array([560, 560])"
            ]
          },
          "metadata": {
            "tags": []
          },
          "execution_count": 50
        }
      ]
    },
    {
      "cell_type": "markdown",
      "metadata": {
        "id": "e98A7vGP4Qer"
      },
      "source": [
        "**Observation:** The minority class has been increased to the total number of majority class."
      ]
    },
    {
      "cell_type": "markdown",
      "metadata": {
        "id": "OlBuLNAm4Xv5"
      },
      "source": [
        "**Data Modelling**"
      ]
    },
    {
      "cell_type": "code",
      "metadata": {
        "id": "oKWjLGLl4hmA"
      },
      "source": [
        "# Logistic Regression Model\n",
        "from sklearn.linear_model import LogisticRegression\n",
        "logistic_classifier = LogisticRegression()\n",
        "\n",
        "# training our model\n",
        "logistic_classifier.fit(X_train, y_train)\n",
        "\n",
        "# making predictions\n",
        "y_pred_logistic = logistic_classifier.predict(X_test)"
      ],
      "execution_count": null,
      "outputs": []
    },
    {
      "cell_type": "code",
      "metadata": {
        "colab": {
          "base_uri": "https://localhost:8080/"
        },
        "id": "theNmrZ16aCp",
        "outputId": "ff368165-9d6d-4709-a1ea-760582225d7a"
      },
      "source": [
        "# Logistic Regression Evaluation\n",
        "\n",
        "from sklearn.metrics import accuracy_score, confusion_matrix, classification_report\n",
        "print(accuracy_score(y_pred_logistic, y_test))\n",
        "print(confusion_matrix(y_test, y_pred_logistic))\n",
        "print(classification_report(y_test, y_pred_logistic))"
      ],
      "execution_count": null,
      "outputs": [
        {
          "output_type": "stream",
          "text": [
            "0.735\n",
            "[[ 29  31]\n",
            " [ 22 118]]\n",
            "              precision    recall  f1-score   support\n",
            "\n",
            "           0       0.57      0.48      0.52        60\n",
            "           1       0.79      0.84      0.82       140\n",
            "\n",
            "    accuracy                           0.73       200\n",
            "   macro avg       0.68      0.66      0.67       200\n",
            "weighted avg       0.72      0.73      0.73       200\n",
            "\n"
          ],
          "name": "stdout"
        }
      ]
    },
    {
      "cell_type": "markdown",
      "metadata": {
        "id": "BsFArwMp7joZ"
      },
      "source": [
        "**Observation:** \n",
        "\n",
        "Logistic Regression accuracy is 73.5%\n",
        "\n",
        "From our confusion matrix, we can see that we 118 records with the class 1 were predicted correctly, however 31 records with the class 1 were incorrectly predicted. 29 records with the class 0 were predicted correctly while 22 records were predicted incorrectly.\n",
        "\n",
        "From our classification report, we can see that we have a recall of 0.66 which is our true positive rate"
      ]
    },
    {
      "cell_type": "code",
      "metadata": {
        "colab": {
          "base_uri": "https://localhost:8080/",
          "height": 301
        },
        "id": "fHORVeeQ8U6m",
        "outputId": "1b4d8662-a46b-41e3-ed4a-fcf8b1c81b3f"
      },
      "source": [
        "# Exploring roc metric \n",
        "\n",
        "# plotting roc curve (receiving operating characteristic curve)\n",
        "from sklearn.metrics import roc_curve, roc_auc_score\n",
        "\n",
        "# Create true and false positive rates\n",
        "false_positive_rate, true_positive_rate, threshold = roc_curve(y_test, y_pred_logistic)\n",
        "\n",
        "# Plot ROC curve\n",
        "plt.title('Receiver Operating Characteristic')\n",
        "plt.plot(false_positive_rate, true_positive_rate)\n",
        "plt.plot([0, 1], ls=\"--\")\n",
        "plt.plot([0, 0], [1, 0] , c=\".7\"), plt.plot([1, 1] , c=\".7\")\n",
        "plt.ylabel('True Positive Rate')\n",
        "plt.xlabel('False Positive Rate')\n",
        "plt.show()"
      ],
      "execution_count": null,
      "outputs": [
        {
          "output_type": "display_data",
          "data": {
            "image/png": "[encoded data removed]",
            "text/plain": [
              "<Figure size 432x288 with 1 Axes>"
            ]
          },
          "metadata": {
            "tags": [],
            "needs_background": "light"
          }
        }
      ]
    },
    {
      "cell_type": "markdown",
      "metadata": {
        "id": "31rZpPlO9ra_"
      },
      "source": [
        "This type of curve shows the true positive and false positive rate for every probability threshold of a binary classifier. The higher the blue line, the better the model at distinguishing between the positive and negative classes."
      ]
    },
    {
      "cell_type": "code",
      "metadata": {
        "colab": {
          "base_uri": "https://localhost:8080/"
        },
        "id": "Awcbma-b9u8A",
        "outputId": "cca164c5-f16a-4c94-fa84-5f53f2c797b4"
      },
      "source": [
        "# roc_auc_score\n",
        "roc_auc_score(y_test, y_pred_logistic)"
      ],
      "execution_count": null,
      "outputs": [
        {
          "output_type": "execute_result",
          "data": {
            "text/plain": [
              "0.6630952380952381"
            ]
          },
          "metadata": {
            "tags": []
          },
          "execution_count": 54
        }
      ]
    },
    {
      "cell_type": "markdown",
      "metadata": {
        "id": "2-URr5RG92tg"
      },
      "source": [
        "**Observation:** The roc auc score is 0.66. The closer the score to 1, the better the model is."
      ]
    },
    {
      "cell_type": "code",
      "metadata": {
        "colab": {
          "base_uri": "https://localhost:8080/"
        },
        "id": "NrFFkSdl-PhL",
        "outputId": "e0d1f910-ae56-4ee0-8faa-44f6f22aedb0"
      },
      "source": [
        "# Decision Tree, Random Forest and Gradient Boosting models\n",
        "\n",
        "# importing our machine learning algorithms  \n",
        "from sklearn.tree import DecisionTreeClassifier    \n",
        "from sklearn.ensemble import RandomForestClassifier\n",
        "from sklearn.ensemble import GradientBoostingClassifier\n",
        "\n",
        "# instantiating our algorithms\n",
        "decision_classifier = DecisionTreeClassifier()\n",
        "random_forest_classifier = RandomForestClassifier()\n",
        "gbm_classifier = GradientBoostingClassifier()\n",
        "\n",
        "# training our models\n",
        "decision_classifier.fit(X_train, y_train)\n",
        "random_forest_classifier.fit(X_train, y_train)\n",
        "gbm_classifier.fit(X_train, y_train)\n",
        "\n",
        "# making predictions\n",
        "decision_y_prediction = decision_classifier.predict(X_test) \n",
        "random_forest_y_pred = random_forest_classifier.predict(X_test)\n",
        "gbm_y_pred = gbm_classifier.predict(X_test)\n",
        "\n",
        "# evaluation metrics\n",
        "from sklearn.metrics import classification_report, accuracy_score, roc_auc_score, confusion_matrix\n",
        "print('Decision Tree')\n",
        "print(accuracy_score(decision_y_prediction, y_test))\n",
        "print(confusion_matrix(decision_y_prediction, y_test))\n",
        "print(classification_report(decision_y_prediction, y_test))\n",
        "print(roc_auc_score(decision_y_prediction, y_test))\n",
        "\n",
        "print('Random Forest')\n",
        "print(accuracy_score(random_forest_y_pred, y_test))\n",
        "print(confusion_matrix(random_forest_y_pred, y_test))\n",
        "print(classification_report(random_forest_y_pred, y_test))\n",
        "print(roc_auc_score(random_forest_y_pred, y_test))\n",
        "\n",
        "print('Gradient Boosting')\n",
        "print(accuracy_score(gbm_y_pred, y_test))\n",
        "print(confusion_matrix(gbm_y_pred, y_test))\n",
        "print(classification_report(gbm_y_pred, y_test))\n",
        "print(roc_auc_score(gbm_y_pred, y_test))"
      ],
      "execution_count": null,
      "outputs": [
        {
          "output_type": "stream",
          "text": [
            "Decision Tree\n",
            "0.705\n",
            "[[ 33  32]\n",
            " [ 27 108]]\n",
            "              precision    recall  f1-score   support\n",
            "\n",
            "           0       0.55      0.51      0.53        65\n",
            "           1       0.77      0.80      0.79       135\n",
            "\n",
            "    accuracy                           0.70       200\n",
            "   macro avg       0.66      0.65      0.66       200\n",
            "weighted avg       0.70      0.70      0.70       200\n",
            "\n",
            "0.6538461538461539\n",
            "Random Forest\n",
            "0.735\n",
            "[[ 26  19]\n",
            " [ 34 121]]\n",
            "              precision    recall  f1-score   support\n",
            "\n",
            "           0       0.43      0.58      0.50        45\n",
            "           1       0.86      0.78      0.82       155\n",
            "\n",
            "    accuracy                           0.73       200\n",
            "   macro avg       0.65      0.68      0.66       200\n",
            "weighted avg       0.77      0.73      0.75       200\n",
            "\n",
            "0.6792114695340502\n",
            "Gradient Boosting\n",
            "0.705\n",
            "[[ 23  22]\n",
            " [ 37 118]]\n",
            "              precision    recall  f1-score   support\n",
            "\n",
            "           0       0.38      0.51      0.44        45\n",
            "           1       0.84      0.76      0.80       155\n",
            "\n",
            "    accuracy                           0.70       200\n",
            "   macro avg       0.61      0.64      0.62       200\n",
            "weighted avg       0.74      0.70      0.72       200\n",
            "\n",
            "0.6362007168458781\n"
          ],
          "name": "stdout"
        }
      ]
    },
    {
      "cell_type": "markdown",
      "metadata": {
        "id": "HfCufqdq_4Nx"
      },
      "source": [
        "**Observation:** \n",
        "\n",
        "*   The Recall score for the random forest model is slightly higher than that of the logistic regression model. However, the random forest model was not better at predicting true negatives. \n",
        "\n",
        "*   The logistic regression classifier  outperformed other models even without any optimisation done."
      ]
    }
  ]
}